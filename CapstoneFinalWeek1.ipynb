{
 "cells": [
  {
   "cell_type": "markdown",
   "metadata": {},
   "source": [
    "# Problem\n",
    "Explore Brooklyn and figure which neighbourhood could be ripe for a high-end tiered gym facility. Think Lifetime fitness.\n",
    "\n",
    "# Background of Brooklyn\n",
    "Brooklyn is an enormous coastal borough (i.e. on the ocean, a bay, or inlet) located in the state of New York. With a population of 2,648,771 people and 760 constituent neighborhoods, Brooklyn is the largest community in New York. Following are some of the reasons why a high-end tiered gym could be just the right thing for the neighbourhood:\n",
    "\n",
    "* Brooklyn home prices are not only among the most expensive in New York, but Brooklyn real estate also consistently ranks among the most expensive in America. They can afford a gym membership.\n",
    "\n",
    "* Brooklyn is a decidedly white-collar borough, with fully 85.21% of the workforce employed in white-collar jobs, well above the national average. Overall, Brooklyn is a borough of professionals, service providers, and sales and office workers. There are especially a lot of people living in Brooklyn who work in office and administrative support (12.49%), sales jobs (9.49%), and management occupations (9.05%). However, one downside of living in Brooklyn is that it can take a long time to commute to work. In Brooklyn, the average commute to work is 40.47 minutes, which is quite a bit higher than the national average. On the other hand, local public transit is widely used in the borough, so leaving the car at home and taking transit is often a viable alternative. In addition, it is also a pedestrian-friendly borough. Many of Brooklyn’s neighborhoods are dense enough and have amenities close enough together that people find it feasible to get around on foot.\n",
    "This indicates if the gyms are sparse in the neighbourhood than perhaps a lot of these people will skip a workout to be with their families. Hitting the gym that's somewhat at a spitting distance from their homes might just be the key.\n",
    "\n",
    "* The citizens of Brooklyn are very well educated compared to the average community in the nation: 34.08% of adults in Brooklyn have a bachelor's degree or even advanced degree. Its a known fact the more educated you are the more likely you are going to be health conscious.\n",
    "\n",
    "SOURCE:https://www.neighborhoodscout.com/ny/brooklyn\n",
    "\n",
    "# Data that will identify the perfect location to open the gym."
   ]
  },
  {
   "cell_type": "markdown",
   "metadata": {},
   "source": [
    "### Data procurement\n",
    "* A listing of neighborhoods by ZIP Code obtained from:\n",
    "(https://geo.nyu.edu/catalog/nyu_2451_34572)\n",
    "* Latitude/Longitude data provided via Cognitive Class (https://cocl.us/Geospatial_data)\n",
    "* New York city data accessible through the FourSquare API "
   ]
  },
  {
   "cell_type": "markdown",
   "metadata": {},
   "source": [
    "### What will we do with the data?\n",
    "\n",
    "* The data will identify the list of the businesses/venues in the neighbourhood.\n",
    "* List neighborhoods along with the top 5 most common venues.\n",
    "* Perhaps use clustering method to determine which neighbourood is best for opening a gym.\n",
    "\n"
   ]
  }
 ],
 "metadata": {
  "kernelspec": {
   "display_name": "Python 3",
   "language": "python",
   "name": "python3"
  },
  "language_info": {
   "codemirror_mode": {
    "name": "ipython",
    "version": 3
   },
   "file_extension": ".py",
   "mimetype": "text/x-python",
   "name": "python",
   "nbconvert_exporter": "python",
   "pygments_lexer": "ipython3",
   "version": "3.6.6"
  }
 },
 "nbformat": 4,
 "nbformat_minor": 2
}
